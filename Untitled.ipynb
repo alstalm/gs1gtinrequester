{
 "cells": [
  {
   "cell_type": "code",
   "execution_count": 72,
   "metadata": {},
   "outputs": [],
   "source": [
    "from func import GetTable\n",
    "import pandas as pd\n",
    "import requests\n",
    "import datetime\n",
    "from requests.packages.urllib3.exceptions import InsecureRequestWarning\n",
    "# ОТКЛЮЧАЕТ ВОРНИНГИ НО ВОЗМОЖНО ЗАМЕДЛЯЕТ\n",
    "requests.packages.urllib3.disable_warnings(InsecureRequestWarning)\n",
    "\n",
    "from requests.auth import HTTPBasicAuth\n",
    "#import timing # запуск модуля timing (нашел в интеренете)\n",
    "from time import perf_counter\n",
    "import yaml\n",
    "\n",
    "t1_start = perf_counter() # запуск начала отсчета\n",
    "\n",
    "''' ЗАДАИМ ПАРАМЕТРЫ'''\n",
    "with open('params.yaml', 'r', encoding='UTF-8' ) as f:\n",
    "    params = yaml.safe_load(f)\n",
    "\n",
    "'''Endpoint И АКРЕДЫ АУТЕНТИФИКАЦИИ '''\n",
    "url = params['url']\n",
    "login = params['login']\n",
    "password = params['password']\n",
    "''' СПИСОК GTIN'''\n",
    "GTIN_LIST_path = params['GTIN_LIST_path']\n",
    "GTIN_LIST_file = params['GTIN_LIST_file']\n",
    "''' РЕЗУЛЬТАТ ВЫГРУЗКИ '''\n",
    "output_folder = params['output_folder']\n",
    "output_file = params['output_file']\n",
    "''' ЗАДАИМ СПИСОК АТРИБУТОВ'''\n",
    "Attributes_list = params['Attributes_list']\n",
    "\n",
    "\n",
    "''' соберем авторизацию'''\n",
    "auth = HTTPBasicAuth(login, password)"
   ]
  },
  {
   "cell_type": "code",
   "execution_count": 120,
   "metadata": {},
   "outputs": [],
   "source": [
    "full_body = '''<SOAP-ENV:Envelope xmlns:SOAP-ENV=\"http://schemas.xmlsoap.org/soap/envelope/\" xmlns:ns1=\"urn:org.gs1ru.gs46.intf\">\n",
    "    \t<SOAP-ENV:Body>\n",
    "    \t\t<ns1:GetItemByGTIN>\n",
    "    \t\t\t<ns1:GTIN>4620005721227</ns1:GTIN>\n",
    "    \t\t\t<ns1:lang>RU</ns1:lang>\n",
    "    \t\t\t<ns1:showMeta>0</ns1:showMeta>\n",
    "    \t\t\t<ns1:noCache>0</ns1:noCache>\n",
    "    \t\t\t<ns1:loadChangeVersion>0</ns1:loadChangeVersion>\n",
    "    \t\t\t<ns1:noCascade>0</ns1:noCascade>\n",
    "    \t\t\t<ns1:noGepir>0</ns1:noGepir>\n",
    "    \t\t</ns1:GetItemByGTIN>\n",
    "    \t</SOAP-ENV:Body>\n",
    "    </SOAP-ENV:Envelope>'''\n",
    "\n",
    "resp = requests.post(url=url, data=full_body, auth=auth, verify=False)\n",
    "answer = resp.content\n",
    "XML_parsed_to_dict = xmltodict.parse(answer)"
   ]
  },
  {
   "cell_type": "code",
   "execution_count": 135,
   "metadata": {},
   "outputs": [
    {
     "name": "stdout",
     "output_type": "stream",
     "text": [
      "200\n"
     ]
    }
   ],
   "source": [
    "resp = requests.post(url=url, data=full_body, auth=auth, verify=False)\n",
    "status_code = resp.status_code\n",
    "#answer = resp.content\n",
    "#XML_parsed_to_dict = xmltodict.parse(answer)\n",
    "print(status_code)\n"
   ]
  },
  {
   "cell_type": "code",
   "execution_count": 131,
   "metadata": {},
   "outputs": [
    {
     "data": {
      "text/plain": [
       "True"
      ]
     },
     "execution_count": 131,
     "metadata": {},
     "output_type": "execute_result"
    }
   ],
   "source": [
    "infotype_record = 0\n",
    "isinstance(common_part['InfoTypeRecords']['record'][infotype_record]['AttributeValues']['value'], list)"
   ]
  },
  {
   "cell_type": "code",
   "execution_count": 141,
   "metadata": {},
   "outputs": [
    {
     "data": {
      "text/html": [
       "<div>\n",
       "<style scoped>\n",
       "    .dataframe tbody tr th:only-of-type {\n",
       "        vertical-align: middle;\n",
       "    }\n",
       "\n",
       "    .dataframe tbody tr th {\n",
       "        vertical-align: top;\n",
       "    }\n",
       "\n",
       "    .dataframe thead th {\n",
       "        text-align: right;\n",
       "    }\n",
       "</style>\n",
       "<table border=\"1\" class=\"dataframe\">\n",
       "  <thead>\n",
       "    <tr style=\"text-align: right;\">\n",
       "      <th></th>\n",
       "      <th>http_code</th>\n",
       "    </tr>\n",
       "  </thead>\n",
       "  <tbody>\n",
       "    <tr>\n",
       "      <th>0</th>\n",
       "      <td>200</td>\n",
       "    </tr>\n",
       "  </tbody>\n",
       "</table>\n",
       "</div>"
      ],
      "text/plain": [
       "   http_code\n",
       "0        200"
      ]
     },
     "execution_count": 141,
     "metadata": {},
     "output_type": "execute_result"
    }
   ],
   "source": [
    "curent_attr_df = pd.DataFrame({'http_code':[200]})\n",
    "curent_attr_df"
   ]
  },
  {
   "cell_type": "code",
   "execution_count": 144,
   "metadata": {},
   "outputs": [
    {
     "data": {
      "text/html": [
       "<div>\n",
       "<style scoped>\n",
       "    .dataframe tbody tr th:only-of-type {\n",
       "        vertical-align: middle;\n",
       "    }\n",
       "\n",
       "    .dataframe tbody tr th {\n",
       "        vertical-align: top;\n",
       "    }\n",
       "\n",
       "    .dataframe thead th {\n",
       "        text-align: right;\n",
       "    }\n",
       "</style>\n",
       "<table border=\"1\" class=\"dataframe\">\n",
       "  <thead>\n",
       "    <tr style=\"text-align: right;\">\n",
       "      <th></th>\n",
       "      <th>A</th>\n",
       "      <th>B</th>\n",
       "      <th>http_code</th>\n",
       "    </tr>\n",
       "  </thead>\n",
       "  <tbody>\n",
       "    <tr>\n",
       "      <th>0</th>\n",
       "      <td>11</td>\n",
       "      <td>21</td>\n",
       "      <td>NaN</td>\n",
       "    </tr>\n",
       "    <tr>\n",
       "      <th>1</th>\n",
       "      <td>12</td>\n",
       "      <td>22</td>\n",
       "      <td>NaN</td>\n",
       "    </tr>\n",
       "    <tr>\n",
       "      <th>0</th>\n",
       "      <td>NaN</td>\n",
       "      <td>NaN</td>\n",
       "      <td>200.0</td>\n",
       "    </tr>\n",
       "  </tbody>\n",
       "</table>\n",
       "</div>"
      ],
      "text/plain": [
       "     A    B  http_code\n",
       "0   11   21        NaN\n",
       "1   12   22        NaN\n",
       "0  NaN  NaN      200.0"
      ]
     },
     "execution_count": 144,
     "metadata": {},
     "output_type": "execute_result"
    }
   ],
   "source": [
    "full_attr_df = pd.DataFrame({'A':['11','12'],'B':['21','22']})\n",
    "\n",
    "result_attr_df = pd.concat([full_attr_df, curent_attr_df])\n",
    "result_attr_df"
   ]
  },
  {
   "cell_type": "code",
   "execution_count": 146,
   "metadata": {},
   "outputs": [
    {
     "data": {
      "text/html": [
       "<div>\n",
       "<style scoped>\n",
       "    .dataframe tbody tr th:only-of-type {\n",
       "        vertical-align: middle;\n",
       "    }\n",
       "\n",
       "    .dataframe tbody tr th {\n",
       "        vertical-align: top;\n",
       "    }\n",
       "\n",
       "    .dataframe thead th {\n",
       "        text-align: right;\n",
       "    }\n",
       "</style>\n",
       "<table border=\"1\" class=\"dataframe\">\n",
       "  <thead>\n",
       "    <tr style=\"text-align: right;\">\n",
       "      <th></th>\n",
       "      <th>A</th>\n",
       "      <th>B</th>\n",
       "      <th>http_code</th>\n",
       "    </tr>\n",
       "  </thead>\n",
       "  <tbody>\n",
       "    <tr>\n",
       "      <th>0</th>\n",
       "      <td>11</td>\n",
       "      <td>21</td>\n",
       "      <td>NaN</td>\n",
       "    </tr>\n",
       "    <tr>\n",
       "      <th>1</th>\n",
       "      <td>12</td>\n",
       "      <td>22</td>\n",
       "      <td>NaN</td>\n",
       "    </tr>\n",
       "    <tr>\n",
       "      <th>0</th>\n",
       "      <td>NaN</td>\n",
       "      <td>NaN</td>\n",
       "      <td>200.0</td>\n",
       "    </tr>\n",
       "  </tbody>\n",
       "</table>\n",
       "</div>"
      ],
      "text/plain": [
       "     A    B  http_code\n",
       "0   11   21        NaN\n",
       "1   12   22        NaN\n",
       "0  NaN  NaN      200.0"
      ]
     },
     "execution_count": 146,
     "metadata": {},
     "output_type": "execute_result"
    }
   ],
   "source": [
    "full_attr_df = pd.DataFrame({'A':['11','12'],'B':['21','22']})\n",
    "\n",
    "result_attr_df = pd.concat([full_attr_df, curent_attr_df], axis = 0)\n",
    "result_attr_df\n"
   ]
  },
  {
   "cell_type": "code",
   "execution_count": 159,
   "metadata": {},
   "outputs": [
    {
     "name": "stdout",
     "output_type": "stream",
     "text": [
      "curent_gtin_list = [1, 2, 3, 4]\n",
      "\n",
      "gtin_list = [5, 6, 7, 8, 9, 10]\n",
      "\n",
      "curent_attr_df=\n",
      "    GTIN\n",
      "0     1\n",
      "1     2\n",
      "2     3\n",
      "3     4\n",
      "первый проход:\n",
      "full_attr_df=\n",
      "    GTIN\n",
      "0     1\n",
      "1     2\n",
      "2     3\n",
      "3     4\n",
      "curent_gtin_list = [5, 6, 7, 8]\n",
      "\n",
      "gtin_list = [9, 10]\n",
      "\n",
      "curent_attr_df=\n",
      "    GTIN\n",
      "0     5\n",
      "1     6\n",
      "2     7\n",
      "3     8\n",
      "full_attr_df=\n",
      "    GTIN\n",
      "0     1\n",
      "1     2\n",
      "2     3\n",
      "3     4\n",
      "0     5\n",
      "1     6\n",
      "2     7\n",
      "3     8\n",
      "curent_attr_df=\n",
      "    GTIN\n",
      "0     9\n",
      "1    10\n",
      "итоговое значение full_attr_df=\n",
      "    GTIN\n",
      "0     1\n",
      "1     2\n",
      "2     3\n",
      "3     4\n",
      "0     5\n",
      "1     6\n",
      "2     7\n",
      "3     8\n",
      "0     9\n",
      "1    10\n"
     ]
    }
   ],
   "source": [
    "gtin_list = [1,2,3,4,5,6,7,8,9,10]\n",
    "batch_size = 4\n",
    "\n",
    "full_attr_df = pd.DataFrame()\n",
    "\n",
    "if len(gtin_list) >= batch_size:\n",
    "    while len(gtin_list) >= batch_size:\n",
    "\n",
    "        curent_gtin_list = gtin_list[:batch_size]\n",
    "        print('curent_gtin_list = {}\\n'.format(curent_gtin_list))\n",
    "        gtin_list = gtin_list[batch_size:]\n",
    "        print('gtin_list = {}\\n'.format(gtin_list))\n",
    "\n",
    "        curent_attr_df = pd.DataFrame({'GTIN':curent_gtin_list})\n",
    "        print('curent_attr_df=\\n',curent_attr_df)\n",
    "\n",
    "        if len(full_attr_df) < 1:\n",
    "            print('первый проход:')\n",
    "            full_attr_df = curent_attr_df.copy()\n",
    "            print('full_attr_df=\\n',full_attr_df)\n",
    "        else:\n",
    "            full_attr_df = pd.concat([full_attr_df, curent_attr_df], axis = 0)\n",
    "            print('full_attr_df=\\n',full_attr_df)\n",
    "    curent_gtin_list = gtin_list\n",
    "    curent_attr_df = pd.DataFrame({'GTIN':curent_gtin_list})\n",
    "    print('curent_attr_df=\\n',curent_attr_df)\n",
    "    full_attr_df = pd.concat([full_attr_df, curent_attr_df], axis = 0)\n",
    "    \n",
    "else:\n",
    "    curent_gtin_list = gtin_list\n",
    "    full_attr_df = pd.DataFrame({'GTIN':curent_gtin_list})\n",
    "    \n",
    "print('итоговое значение full_attr_df=\\n',full_attr_df)"
   ]
  },
  {
   "cell_type": "code",
   "execution_count": 160,
   "metadata": {},
   "outputs": [],
   "source": [
    "x = '123'"
   ]
  },
  {
   "cell_type": "code",
   "execution_count": 162,
   "metadata": {},
   "outputs": [
    {
     "data": {
      "text/plain": [
       "'12'"
      ]
     },
     "execution_count": 162,
     "metadata": {},
     "output_type": "execute_result"
    }
   ],
   "source": [
    "y = x[:2]\n",
    "y"
   ]
  },
  {
   "cell_type": "code",
   "execution_count": null,
   "metadata": {},
   "outputs": [],
   "source": []
  }
 ],
 "metadata": {
  "kernelspec": {
   "display_name": "Python 3",
   "language": "python",
   "name": "python3"
  },
  "language_info": {
   "codemirror_mode": {
    "name": "ipython",
    "version": 3
   },
   "file_extension": ".py",
   "mimetype": "text/x-python",
   "name": "python",
   "nbconvert_exporter": "python",
   "pygments_lexer": "ipython3",
   "version": "3.7.6"
  }
 },
 "nbformat": 4,
 "nbformat_minor": 4
}
